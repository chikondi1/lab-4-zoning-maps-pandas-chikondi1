{
  "nbformat": 4,
  "nbformat_minor": 0,
  "metadata": {
    "colab": {
      "name": "Lab4.ipynb",
      "provenance": [],
      "authorship_tag": "ABX9TyNoJ23jpunHKGJIKdO4MB9g",
      "include_colab_link": true
    },
    "kernelspec": {
      "name": "python3",
      "display_name": "Python 3"
    }
  },
  "cells": [
    {
      "cell_type": "markdown",
      "metadata": {
        "id": "view-in-github",
        "colab_type": "text"
      },
      "source": [
        "<a href=\"https://colab.research.google.com/github/IDCE-MSGIS/lab-4-zoning-maps-pandas-chikondi1/blob/main/Lab4.ipynb\" target=\"_parent\"><img src=\"https://colab.research.google.com/assets/colab-badge.svg\" alt=\"Open In Colab\"/></a>"
      ]
    },
    {
      "cell_type": "code",
      "metadata": {
        "id": "QrzMSZXo9maK"
      },
      "source": [
        "#Add GIS packages to Google Colab\n",
        "!pip install geopandas\n",
        "!apt-get install -y libspatialindex-dev\n",
        "!pip install rtree\n",
        "\n",
        "#Import necessary packages and simplify names\n",
        "import pandas as pd  #Provides interface for interacting with tabular data\n",
        "import geopandas as gpd  #Combines the capabilities of pandas and shapely for geospatial operations\n",
        "from shapely.geometry import Point, Polygon, MultiPolygon  #For manipulating text data into geospatial shapes\n",
        "from shapely import wkt  #Stands for \"well known text,\" which allows for interchange across GIS programs\n",
        "import rtree  #Supports geospatial join"
      ],
      "execution_count": null,
      "outputs": []
    },
    {
      "cell_type": "code",
      "metadata": {
        "id": "H8Fh3kq6-f9-",
        "outputId": "ceb4468c-086d-43f3-d8c4-5d5c34cf4fe9",
        "colab": {
          "base_uri": "https://localhost:8080/"
        }
      },
      "source": [
        "from google.colab import drive \n",
        "drive.mount('/content/gdrive') #Connects Colab to Google Drive\n",
        "root_path = 'gdrive/My Drive/gis/' #Sets root path to folder where data is stored"
      ],
      "execution_count": null,
      "outputs": [
        {
          "output_type": "stream",
          "text": [
            "Mounted at /content/gdrive\n"
          ],
          "name": "stdout"
        }
      ]
    },
    {
      "cell_type": "code",
      "metadata": {
        "id": "JzuZTL2Z-owN"
      },
      "source": [
        "#Read in PUDs file as a geodataframe (Geopanda) and initialize coordinate reference system (CRS)\n",
        "puds = gpd.read_file(root_path+'input/Planned_Unit_Development__PUDs.shp', crs = {'init' :'epsg:4326'})\n",
        "aff = pd.read_csv(root_path+'input/Affordable_Housing.csv')\n",
        "crosswalk = pd.read_csv(root_path+'input/zoning_crosswalk.csv')\n",
        "\n",
        "#Displays rows from the first 3 index places (4 rows total)\n",
        "puds.sample(3)"
      ],
      "execution_count": null,
      "outputs": []
    },
    {
      "cell_type": "code",
      "metadata": {
        "id": "B_mUcsZy-0mJ"
      },
      "source": [
        "#Provides a summary of what is within the Affordable housing .csv\n",
        "aff.info()"
      ],
      "execution_count": null,
      "outputs": []
    },
    {
      "cell_type": "code",
      "metadata": {
        "id": "C2hFNu5S-3J5"
      },
      "source": [
        "#Provides a summary of what is within the PUD .shp file\n",
        "puds.info()"
      ],
      "execution_count": null,
      "outputs": []
    },
    {
      "cell_type": "code",
      "metadata": {
        "id": "1MClTNot-77w"
      },
      "source": [
        "#Creates a geometry column in the affordable housing dataframe.\n",
        "aff['geometry'] = aff.apply(lambda row: Point(row.X, row.Y), axis=1)\n",
        "aff = gpd.GeoDataFrame(aff, crs={'init' :'epsg:4326'}) #These numbers comprise a standard coordinate frame for the Earth"
      ],
      "execution_count": null,
      "outputs": []
    },
    {
      "cell_type": "code",
      "metadata": {
        "id": "S3EQumPL-_EE"
      },
      "source": [
        "aff.sample(1) #Sampling to the first index"
      ],
      "execution_count": null,
      "outputs": []
    },
    {
      "cell_type": "code",
      "metadata": {
        "id": "vDDX3r1r_Bs6"
      },
      "source": [
        "#Uses geospatial join to identify which PUDs include affordable housing projects.\n",
        "puds_aff = gpd.sjoin(puds, aff, op='intersects', how='left')"
      ],
      "execution_count": null,
      "outputs": []
    },
    {
      "cell_type": "code",
      "metadata": {
        "id": "sJLoiUA6_D5s"
      },
      "source": [
        "#Check our Merge - incremental development, we're checking as we go!\n",
        "puds_aff.info()"
      ],
      "execution_count": null,
      "outputs": []
    },
    {
      "cell_type": "code",
      "metadata": {
        "id": "pCI-ARCA_Hrp"
      },
      "source": [
        "#Merges dataframe with zoning categories crosswalk to create the categories of \"commercial\", \"residential\" and \"other/mixed use\"\n",
        "puds_info = puds_aff.merge(crosswalk[['Zone_Cat']], how='left', left_on='PUD_ZONING', right_on=crosswalk['Zone'])"
      ],
      "execution_count": null,
      "outputs": []
    },
    {
      "cell_type": "code",
      "metadata": {
        "id": "yTU_8vpQ_KNY"
      },
      "source": [
        "#Counts using print statements to show the total number of PUDs, and how many offer affordable housing.\n",
        "print(f\"Total count of PUDs: {puds_info.shape[0]}\")\n",
        "print(f\"Count PUDs offering Affordable Housing: {puds_info.loc[~puds_info.PROJECT_NAME.isna()].shape[0]}\")"
      ],
      "execution_count": null,
      "outputs": []
    },
    {
      "cell_type": "code",
      "metadata": {
        "id": "DvOJt8MP_MwK"
      },
      "source": [
        "#Creates a map of PUDs by Zoning Category\n",
        "puds_info.plot(column='Zone_Cat', legend=True, figsize=(16,8));"
      ],
      "execution_count": null,
      "outputs": []
    },
    {
      "cell_type": "code",
      "metadata": {
        "id": "L0A7VHQ3_QcA"
      },
      "source": [
        "#Creates a map of the PUDs that provide Affordable Housing\n",
        "puds_info[puds_info['TOTAL_AFFORDABLE_UNITS']>0].plot(column='TOTAL_AFFORDABLE_UNITS', color='grey', figsize=(16,8));"
      ],
      "execution_count": null,
      "outputs": []
    },
    {
      "cell_type": "code",
      "metadata": {
        "id": "MwaWqXKX_UTy"
      },
      "source": [
        "#Exports geodataframe as shapefile within Colab\n",
        "puds_info.to_file('puds_info.shp')\n",
        "\n",
        "#Copies shapefile components from Colab to Google Drive using bash script\n",
        "!cp puds_info.cpg 'gdrive/My Drive/gis/output' #Copies to the output folder\n",
        "!cp puds_info.dbf 'gdrive/My Drive/gis/output'\n",
        "!cp puds_info.prj 'gdrive/My Drive/gis/output'\n",
        "!cp puds_info.shp 'gdrive/My Drive/gis/output'\n",
        "!cp puds_info.shx 'gdrive/My Drive/gis/output'"
      ],
      "execution_count": null,
      "outputs": []
    }
  ]
}